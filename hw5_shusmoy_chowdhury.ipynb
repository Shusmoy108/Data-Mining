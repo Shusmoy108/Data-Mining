{
 "cells": [
  {
   "cell_type": "code",
   "execution_count": 45,
   "id": "ac42b945",
   "metadata": {},
   "outputs": [
    {
     "name": "stdout",
     "output_type": "stream",
     "text": [
      "150\n",
      "150\n",
      "200\n",
      "500\n"
     ]
    }
   ],
   "source": [
    "'''\n",
    "Name: Shusmoy Chowdhury\n",
    "\n",
    "Stopping Criteria: When there is no missclassified data in the training data we stopped our perceptron algorithm\n",
    "\n",
    "Accuracy in Test: 100%\n",
    "\n",
    "Comment: \n",
    "For our algorithm we have used 0.001 as learning rate. We need 45 epochs to get 100% accuracy.\n",
    "Then we have used 0.001 as learning rate. We need 449 epochs to get 100% accuracy.\n",
    "Then we have used 0.01 as learning rate. We need 6 epochs to get 100% accuracy.\n",
    "Then we have used 0.1  as learning rate. We need 2 epochs to get 100% accuracy.\n",
    "So we can say learning rate controls how fast our perceptron will learn. \n",
    "But high learning sometimes might skip the optimal solution in peceptron and low learning rate will need more epoch to get good accuracy.\n",
    "So good learning rate is very important. We have used 0.001 as our learning rate stored in the variable alpha.\n",
    "'''\n",
    "import numpy as np \n",
    "import math\n",
    "data = np.loadtxt('synthetic_2D.txt',comments='#',delimiter=' ',) #Loading  Data\n",
    "x=0\n",
    "y=0\n",
    "z=0\n",
    "for i in range(len(data)):\n",
    "    if(data[i][2]==0):\n",
    "        z+=1\n",
    "    elif (data[i][2]==1):\n",
    "        y+=1\n",
    "    elif (data[i][2]==2):\n",
    "        x+=1\n",
    "print(x)\n",
    "print(y)\n",
    "print(z)\n",
    "print(len(data))"
   ]
  },
  {
   "cell_type": "code",
   "execution_count": 13,
   "id": "8465d02e",
   "metadata": {},
   "outputs": [],
   "source": [
    "#finding the eucledian distance for two data points\n",
    "def eucledianDistance(point1, point2):\n",
    "    dist=0;\n",
    "    #finding the distance for every feature\n",
    "    for i in range (0,len(point1)-1): #started from 1 as 0 index is the class label\n",
    "        dist= dist + (point1[i]-point2[i])**2 # sum of (point1's ith feature - point2's ith feature)^2 \n",
    "    return math.sqrt(dist)"
   ]
  },
  {
   "cell_type": "code",
   "execution_count": 35,
   "id": "fb164165",
   "metadata": {},
   "outputs": [],
   "source": [
    "def kmeans(data,k):\n",
    "    np.random.seed(0) # Seting randomization seed\n",
    "    centers= data[np.random.choice(len(data),k,replace=False)]\n",
    "    #print(centers)\n",
    "    closest=np.zeros(len(data))\n",
    "    dist=np.zeros(len(data)*k).reshape(len(data),k);\n",
    "    while True:\n",
    "        old_closest=closest.copy()\n",
    "        for i in range(len(data)):\n",
    "            for j in range(0,k,1):\n",
    "                dist[i][j]=eucledianDistance(data[i],centers[j])\n",
    "        closest=np.argmin(dist,axis=1)\n",
    "        for i in range(0,k,1):\n",
    "            centers[i,:]=data[closest==i].mean(axis=0)\n",
    "        #print(centers)\n",
    "        if all(closest==old_closest):\n",
    "            break\n",
    "    return closest,centers"
   ]
  },
  {
   "cell_type": "code",
   "execution_count": 46,
   "id": "292ec62e",
   "metadata": {},
   "outputs": [
    {
     "name": "stdout",
     "output_type": "stream",
     "text": [
      "[[211.  27.]\n",
      " [124.   5.]\n",
      " [165.  27.]]\n"
     ]
    }
   ],
   "source": [
    "labels,centers= kmeans(data,3)\n",
    "x=np.zeros(2*3).reshape(3,2);\n",
    "for i in range(len(labels)):\n",
    "    x[int(labels[i])][0]+=1\n",
    "    if(data[i][2]!=labels[i]):\n",
    "        x[int(labels[i])][1]+=1\n",
    "        #x+=1\n",
    "    \n",
    "print(x)\n",
    "#print(((len(data)-x)*100)/len(data))"
   ]
  },
  {
   "cell_type": "code",
   "execution_count": 36,
   "id": "a0c557b3",
   "metadata": {},
   "outputs": [
    {
     "name": "stdout",
     "output_type": "stream",
     "text": [
      "[  5.32   0.37] Actual Label     1.0 Predicted Label    1.0\n",
      "[ -4.06  -6.25] Actual Label     1.0 Predicted Label    1.0\n",
      "[ -1.17  -6.83] Actual Label     1.0 Predicted Label    1.0\n",
      "[  7.60  -4.52] Actual Label     1.0 Predicted Label    1.0\n",
      "[ -1.72  -4.08] Actual Label     1.0 Predicted Label    1.0\n",
      "[  2.58   1.60] Actual Label     1.0 Predicted Label    1.0\n",
      "[  2.00  -4.68] Actual Label     1.0 Predicted Label    1.0\n",
      "[ -4.31  -4.93] Actual Label     1.0 Predicted Label    1.0\n",
      "[ -3.45  -7.12] Actual Label     1.0 Predicted Label    1.0\n",
      "[  9.20  -6.23] Actual Label     1.0 Predicted Label    1.0\n",
      "[ -5.56   7.41] Actual Label    -1.0 Predicted Label   -1.0\n",
      "[ -5.87   8.37] Actual Label    -1.0 Predicted Label   -1.0\n",
      "[ -0.23   2.23] Actual Label    -1.0 Predicted Label   -1.0\n",
      "[ -8.39   4.77] Actual Label    -1.0 Predicted Label   -1.0\n",
      "[ -6.69   9.28] Actual Label    -1.0 Predicted Label   -1.0\n",
      "[ -9.51  -5.91] Actual Label    -1.0 Predicted Label   -1.0\n",
      "[  4.00   5.59] Actual Label    -1.0 Predicted Label   -1.0\n",
      "[ -9.54   1.55] Actual Label    -1.0 Predicted Label   -1.0\n",
      "[ -9.97   0.31] Actual Label    -1.0 Predicted Label   -1.0\n",
      "[  2.80   9.71] Actual Label    -1.0 Predicted Label   -1.0\n",
      "\n",
      "Accuracy Rate: 100.0%\n",
      "\n",
      "Learned Weights =[1.7739335039273239 1.8375893663724236]\n",
      "Learned Bias = 0.4967633760716438\n"
     ]
    }
   ],
   "source": [
    "np.random.seed(0) # Seting randomization seed\n",
    "x=np.zeros(2*3).reshape(2,3);"
   ]
  },
  {
   "cell_type": "code",
   "execution_count": 38,
   "id": "257951e1",
   "metadata": {},
   "outputs": [
    {
     "name": "stdout",
     "output_type": "stream",
     "text": [
      "[[0. 0.]\n",
      " [0. 0.]\n",
      " [0. 0.]]\n"
     ]
    }
   ],
   "source": [
    "x=np.zeros(2*3).reshape(3,2);\n",
    "print(x)"
   ]
  },
  {
   "cell_type": "code",
   "execution_count": null,
   "id": "cc427716",
   "metadata": {},
   "outputs": [],
   "source": []
  },
  {
   "cell_type": "code",
   "execution_count": null,
   "id": "9a9bd197",
   "metadata": {},
   "outputs": [],
   "source": []
  }
 ],
 "metadata": {
  "kernelspec": {
   "display_name": "Python 3 (ipykernel)",
   "language": "python",
   "name": "python3"
  },
  "language_info": {
   "codemirror_mode": {
    "name": "ipython",
    "version": 3
   },
   "file_extension": ".py",
   "mimetype": "text/x-python",
   "name": "python",
   "nbconvert_exporter": "python",
   "pygments_lexer": "ipython3",
   "version": "3.9.12"
  }
 },
 "nbformat": 4,
 "nbformat_minor": 5
}
