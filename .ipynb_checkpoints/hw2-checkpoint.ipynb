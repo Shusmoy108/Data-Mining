{
 "cells": [
  {
   "cell_type": "markdown",
   "id": "3f111974",
   "metadata": {},
   "source": [
    "# Name : Shusmoy Chowdhury\n",
    "# Partner Name: Marium Binta Ibrahim Ema\n",
    "# HW : Building a Decision Tree with ID3 and testing the tree\n",
    "# Run Command: First Click in Kernel And Choose Restart and Run all. In the last block you can update the test_case variable to test the decision tree.\n",
    "# Loading the training Data"
   ]
  },
  {
   "cell_type": "code",
   "execution_count": 9,
   "id": "c48a1b20",
   "metadata": {},
   "outputs": [
    {
     "data": {
      "text/plain": [
       "'\\n Name : Shusmoy Chowdhury\\n Partner Name: Marium Binte Ibrahim Ema\\n HW : Building a Decision Tree with ID3 and testing the tree\\n Run Command: First Click in Kernel And Choose Restart and Run all. In the last block you can update the test_case variable to test the decision tree.\\n'"
      ]
     },
     "execution_count": 9,
     "metadata": {},
     "output_type": "execute_result"
    }
   ],
   "source": [
    "'''\n",
    " Name : Shusmoy Chowdhury\n",
    " Partner Name: Marium Binte Ibrahim Ema\n",
    " HW : Building a Decision Tree with ID3 and testing the tree\n",
    " Run Command: First Click in Kernel And Choose Restart and Run all. In the last block you can update the test_case variable to test the decision tree.\n",
    "'''"
   ]
  },
  {
   "cell_type": "code",
   "execution_count": 10,
   "id": "7beb3883",
   "metadata": {},
   "outputs": [
    {
     "data": {
      "text/html": [
       "<div>\n",
       "<style scoped>\n",
       "    .dataframe tbody tr th:only-of-type {\n",
       "        vertical-align: middle;\n",
       "    }\n",
       "\n",
       "    .dataframe tbody tr th {\n",
       "        vertical-align: top;\n",
       "    }\n",
       "\n",
       "    .dataframe thead th {\n",
       "        text-align: right;\n",
       "    }\n",
       "</style>\n",
       "<table border=\"1\" class=\"dataframe\">\n",
       "  <thead>\n",
       "    <tr style=\"text-align: right;\">\n",
       "      <th></th>\n",
       "      <th>level</th>\n",
       "      <th>lang</th>\n",
       "      <th>tweets</th>\n",
       "      <th>phd</th>\n",
       "      <th>class</th>\n",
       "    </tr>\n",
       "  </thead>\n",
       "  <tbody>\n",
       "    <tr>\n",
       "      <th>0</th>\n",
       "      <td>Senior</td>\n",
       "      <td>Java</td>\n",
       "      <td>no</td>\n",
       "      <td>no</td>\n",
       "      <td>False</td>\n",
       "    </tr>\n",
       "    <tr>\n",
       "      <th>1</th>\n",
       "      <td>Senior</td>\n",
       "      <td>Java</td>\n",
       "      <td>no</td>\n",
       "      <td>yes</td>\n",
       "      <td>False</td>\n",
       "    </tr>\n",
       "    <tr>\n",
       "      <th>2</th>\n",
       "      <td>Mid</td>\n",
       "      <td>Python</td>\n",
       "      <td>no</td>\n",
       "      <td>no</td>\n",
       "      <td>True</td>\n",
       "    </tr>\n",
       "    <tr>\n",
       "      <th>3</th>\n",
       "      <td>Junior</td>\n",
       "      <td>Python</td>\n",
       "      <td>no</td>\n",
       "      <td>no</td>\n",
       "      <td>True</td>\n",
       "    </tr>\n",
       "    <tr>\n",
       "      <th>4</th>\n",
       "      <td>Junior</td>\n",
       "      <td>R</td>\n",
       "      <td>yes</td>\n",
       "      <td>no</td>\n",
       "      <td>True</td>\n",
       "    </tr>\n",
       "  </tbody>\n",
       "</table>\n",
       "</div>"
      ],
      "text/plain": [
       "    level    lang tweets  phd  class\n",
       "0  Senior    Java     no   no  False\n",
       "1  Senior    Java     no  yes  False\n",
       "2     Mid  Python     no   no   True\n",
       "3  Junior  Python     no   no   True\n",
       "4  Junior       R    yes   no   True"
      ]
     },
     "execution_count": 10,
     "metadata": {},
     "output_type": "execute_result"
    }
   ],
   "source": [
    "import pandas as pd\n",
    "import numpy as np\n",
    "training_data = [\n",
    "({'level':'Senior', 'lang':'Java', 'tweets':'no', 'phd':'no'}, False),\n",
    "({'level':'Senior', 'lang':'Java', 'tweets':'no', 'phd':'yes'}, False),\n",
    "({'level':'Mid', 'lang':'Python', 'tweets':'no', 'phd':'no'}, True),\n",
    "({'level':'Junior', 'lang':'Python', 'tweets':'no', 'phd':'no'}, True),\n",
    "({'level':'Junior', 'lang':'R', 'tweets':'yes', 'phd':'no'}, True),\n",
    "({'level':'Junior', 'lang':'R', 'tweets':'yes', 'phd':'yes'}, False),\n",
    "({'level':'Mid', 'lang':'R', 'tweets':'yes', 'phd':'yes'}, True),\n",
    "({'level':'Senior', 'lang':'Python', 'tweets':'no', 'phd':'no'}, False),\n",
    "({'level':'Senior', 'lang':'R', 'tweets':'yes', 'phd':'no'}, True),\n",
    "({'level':'Junior', 'lang':'Python', 'tweets':'yes', 'phd':'no'}, True),\n",
    "({'level':'Senior', 'lang':'Python', 'tweets':'yes', 'phd':'yes'}, True),\n",
    "({'level':'Mid', 'lang':'Python', 'tweets':'no', 'phd':'yes'}, True),\n",
    "({'level':'Mid', 'lang':'Java', 'tweets':'yes', 'phd':'no'}, True),\n",
    "({'level':'Junior', 'lang':'Python', 'tweets':'no', 'phd':'yes'}, False)\n",
    "]\n",
    "data=[]\n",
    "class_level=[]\n",
    "for i in range(len(training_data)):\n",
    "    data.append(training_data[i][0])\n",
    "    class_level.append(training_data[i][1])\n",
    "    \n",
    "df=pd.DataFrame(data)\n",
    "df['class']=class_level\n",
    "df.head()"
   ]
  },
  {
   "cell_type": "markdown",
   "id": "73ca6dde",
   "metadata": {},
   "source": [
    "# Finding total entropy of a tree"
   ]
  },
  {
   "cell_type": "code",
   "execution_count": 11,
   "id": "78de4fa7",
   "metadata": {},
   "outputs": [
    {
     "data": {
      "text/plain": [
       "0.9402859586706311"
      ]
     },
     "execution_count": 11,
     "metadata": {},
     "output_type": "execute_result"
    }
   ],
   "source": [
    "def find_total_entropy(data):\n",
    "    values=data['class'].unique()\n",
    "    e=0\n",
    "    for v in values:\n",
    "        prob = data['class'].value_counts()[v]/len(data['class'])\n",
    "        e += -prob*np.log2(prob)\n",
    "    return e\n",
    "find_total_entropy(df)   "
   ]
  },
  {
   "cell_type": "markdown",
   "id": "a7db49e1",
   "metadata": {},
   "source": [
    "# Finding entropy of an attribute of the tree"
   ]
  },
  {
   "cell_type": "code",
   "execution_count": 12,
   "id": "65f58487",
   "metadata": {},
   "outputs": [
    {
     "data": {
      "text/plain": [
       "0.6935361388961918"
      ]
     },
     "execution_count": 12,
     "metadata": {},
     "output_type": "execute_result"
    }
   ],
   "source": [
    "def find_attribute_entropy(data,attribute):\n",
    "    class_values=data['class'].unique()\n",
    "    attribute_values=data[attribute].unique()\n",
    "    te=0\n",
    "    for values in attribute_values:\n",
    "        e=0\n",
    "        for c in class_values:\n",
    "            num = len(data[attribute][data[attribute]==values][data['class'] ==c])\n",
    "            den = len(data[attribute][data[attribute]==values])\n",
    "            prob = num/(den)\n",
    "            if(num==0):\n",
    "                e=0\n",
    "                break\n",
    "            e += -prob*np.log2(prob)\n",
    "        prob2 = den/len(data)\n",
    "        te += -prob2*e\n",
    "    return abs(te)\n",
    "\n",
    "find_attribute_entropy(df,'level')\n",
    "        "
   ]
  },
  {
   "cell_type": "markdown",
   "id": "76b31ba4",
   "metadata": {},
   "source": [
    "# Finding information gain and choosing the node to be selected based on the information gain"
   ]
  },
  {
   "cell_type": "code",
   "execution_count": 13,
   "id": "9e9618c7",
   "metadata": {},
   "outputs": [
    {
     "data": {
      "text/plain": [
       "'level'"
      ]
     },
     "execution_count": 13,
     "metadata": {},
     "output_type": "execute_result"
    }
   ],
   "source": [
    "def tree_node(data):\n",
    "    entropy=[]\n",
    "    gain=[]\n",
    "    for k in data.keys()[:-1]:\n",
    "        gain.append(find_total_entropy(data)-find_attribute_entropy(data,k))\n",
    "    return data.keys()[:-1][np.argmax(gain)] \n",
    "\n",
    "tree_node(df)"
   ]
  },
  {
   "cell_type": "markdown",
   "id": "b84100e1",
   "metadata": {},
   "source": [
    "# Find the subtree/subtable for an attribute value"
   ]
  },
  {
   "cell_type": "code",
   "execution_count": 14,
   "id": "3dfd7e71",
   "metadata": {},
   "outputs": [
    {
     "data": {
      "text/html": [
       "<div>\n",
       "<style scoped>\n",
       "    .dataframe tbody tr th:only-of-type {\n",
       "        vertical-align: middle;\n",
       "    }\n",
       "\n",
       "    .dataframe tbody tr th {\n",
       "        vertical-align: top;\n",
       "    }\n",
       "\n",
       "    .dataframe thead th {\n",
       "        text-align: right;\n",
       "    }\n",
       "</style>\n",
       "<table border=\"1\" class=\"dataframe\">\n",
       "  <thead>\n",
       "    <tr style=\"text-align: right;\">\n",
       "      <th></th>\n",
       "      <th>level</th>\n",
       "      <th>lang</th>\n",
       "      <th>tweets</th>\n",
       "      <th>phd</th>\n",
       "      <th>class</th>\n",
       "    </tr>\n",
       "  </thead>\n",
       "  <tbody>\n",
       "    <tr>\n",
       "      <th>0</th>\n",
       "      <td>Mid</td>\n",
       "      <td>Python</td>\n",
       "      <td>no</td>\n",
       "      <td>no</td>\n",
       "      <td>True</td>\n",
       "    </tr>\n",
       "    <tr>\n",
       "      <th>1</th>\n",
       "      <td>Mid</td>\n",
       "      <td>R</td>\n",
       "      <td>yes</td>\n",
       "      <td>yes</td>\n",
       "      <td>True</td>\n",
       "    </tr>\n",
       "    <tr>\n",
       "      <th>2</th>\n",
       "      <td>Mid</td>\n",
       "      <td>Python</td>\n",
       "      <td>no</td>\n",
       "      <td>yes</td>\n",
       "      <td>True</td>\n",
       "    </tr>\n",
       "    <tr>\n",
       "      <th>3</th>\n",
       "      <td>Mid</td>\n",
       "      <td>Java</td>\n",
       "      <td>yes</td>\n",
       "      <td>no</td>\n",
       "      <td>True</td>\n",
       "    </tr>\n",
       "  </tbody>\n",
       "</table>\n",
       "</div>"
      ],
      "text/plain": [
       "  level    lang tweets  phd  class\n",
       "0   Mid  Python     no   no   True\n",
       "1   Mid       R    yes  yes   True\n",
       "2   Mid  Python     no  yes   True\n",
       "3   Mid    Java    yes   no   True"
      ]
     },
     "execution_count": 14,
     "metadata": {},
     "output_type": "execute_result"
    }
   ],
   "source": [
    "def find_subtree(data,attribute,value):\n",
    "    return data[data[attribute] == value].reset_index(drop=True)\n",
    "find_subtree(df,'level','Mid')"
   ]
  },
  {
   "cell_type": "markdown",
   "id": "cccd3f29",
   "metadata": {},
   "source": [
    "# Building the Decision Tree"
   ]
  },
  {
   "cell_type": "code",
   "execution_count": 15,
   "id": "2abab049",
   "metadata": {},
   "outputs": [
    {
     "name": "stdout",
     "output_type": "stream",
     "text": [
      "{'level': {'Junior': {'phd': {'no': True, 'yes': False, None: True}}, 'Mid': True, 'Senior': {'tweets': {'no': False, 'yes': True, None: True}}, None: True}}\n"
     ]
    }
   ],
   "source": [
    "def build_tree(data):\n",
    "    node = tree_node(data)\n",
    "    attr = np.unique(data[node])              \n",
    "    tree={}\n",
    "    tree[node] = {}\n",
    "    for value in attr:\n",
    "        subtree = find_subtree(data,node,value)\n",
    "        label,counts = np.unique(subtree['class'],return_counts=True)                        \n",
    "        if len(counts)==1:\n",
    "            tree[node][value] = label[0]                                                    \n",
    "        else:\n",
    "            tree[node][value] = build_tree(subtree) \n",
    "    tree[node][None] = df[[node,'class']]['class'].value_counts().idxmax()\n",
    "    return tree\n",
    "tree=build_tree(df)\n",
    "print(tree)"
   ]
  },
  {
   "cell_type": "markdown",
   "id": "1c55b85e",
   "metadata": {},
   "source": [
    "# Testing the tree"
   ]
  },
  {
   "cell_type": "code",
   "execution_count": 16,
   "id": "3b3a62c3",
   "metadata": {},
   "outputs": [
    {
     "name": "stdout",
     "output_type": "stream",
     "text": [
      "True\n"
     ]
    }
   ],
   "source": [
    "test_case={\"level\": \"Intern\",\"tweets\":\"yes\"} \n",
    "def test_tree(test, tree):\n",
    "    attribute = next(iter(tree)) \n",
    "    if attribute not in test.keys():\n",
    "         return tree[attribute][None]\n",
    "    if test[attribute] in tree[attribute].keys():\n",
    "        result = tree[attribute][test[attribute]]\n",
    "        if isinstance(result, dict):\n",
    "            return test_tree(test, result)\n",
    "        else:\n",
    "            return result\n",
    "    else:\n",
    "        return tree[attribute][None]\n",
    "ans = test_tree(test_case, tree)\n",
    "print(ans)\n"
   ]
  },
  {
   "cell_type": "code",
   "execution_count": null,
   "id": "b08537a7",
   "metadata": {},
   "outputs": [],
   "source": []
  },
  {
   "cell_type": "code",
   "execution_count": null,
   "id": "268eaffd",
   "metadata": {},
   "outputs": [],
   "source": []
  },
  {
   "cell_type": "code",
   "execution_count": null,
   "id": "b5b4026b",
   "metadata": {},
   "outputs": [],
   "source": []
  },
  {
   "cell_type": "code",
   "execution_count": null,
   "id": "444daa21",
   "metadata": {},
   "outputs": [],
   "source": []
  },
  {
   "cell_type": "code",
   "execution_count": null,
   "id": "3eb453fa",
   "metadata": {},
   "outputs": [],
   "source": []
  }
 ],
 "metadata": {
  "kernelspec": {
   "display_name": "Python 3 (ipykernel)",
   "language": "python",
   "name": "python3"
  },
  "language_info": {
   "codemirror_mode": {
    "name": "ipython",
    "version": 3
   },
   "file_extension": ".py",
   "mimetype": "text/x-python",
   "name": "python",
   "nbconvert_exporter": "python",
   "pygments_lexer": "ipython3",
   "version": "3.9.7"
  }
 },
 "nbformat": 4,
 "nbformat_minor": 5
}
