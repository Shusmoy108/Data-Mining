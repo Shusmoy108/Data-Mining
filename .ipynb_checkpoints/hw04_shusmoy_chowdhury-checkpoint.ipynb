{
 "cells": [
  {
   "cell_type": "code",
   "execution_count": 61,
   "id": "289481b9",
   "metadata": {},
   "outputs": [],
   "source": [
    "import numpy as np\n",
    "import math\n",
    "import random\n",
    "training_data = np.loadtxt('training_data.txt',comments='#',delimiter=' ',)\n",
    "testing_data = np.loadtxt('testing_data.txt',comments='#',delimiter=' ',)"
   ]
  },
  {
   "cell_type": "code",
   "execution_count": 48,
   "id": "3087287e",
   "metadata": {},
   "outputs": [],
   "source": [
    "def activation_function(x,y,w1,w2,b):\n",
    "    f=x*w1-y*w2+b\n",
    "    if(f>=0):\n",
    "        return 1\n",
    "    else:\n",
    "        return -1"
   ]
  },
  {
   "cell_type": "code",
   "execution_count": 79,
   "id": "b5a1c0b3",
   "metadata": {},
   "outputs": [],
   "source": [
    "def perceptron(w1,w2,b, train_data):\n",
    "    while True:\n",
    "        z=0\n",
    "        for i in range(len(train_data)):\n",
    "            e=activation_function(train_data[i][0],train_data[i][1],w1,w2,b)-train_data[i][2]\n",
    "            if(e!=0):\n",
    "                z+=1\n",
    "            w1=w1+0.001*e*train_data[i][0]\n",
    "            w2=w2+0.001*e*train_data[i][1]\n",
    "            b=b+0.001*e*1\n",
    "        #print(z)\n",
    "        if(z==0):\n",
    "            break\n",
    "    return [w1,w2,b]"
   ]
  },
  {
   "cell_type": "code",
   "execution_count": 99,
   "id": "c7f3e758",
   "metadata": {},
   "outputs": [],
   "source": [
    "def perceptron_test(w1,w2,b, test_data):\n",
    "    z=0\n",
    "    for i in range(len(test_data)):\n",
    "        p=activation_function(test_data[i][0],test_data[i][1],w1,w2,b)\n",
    "        e=p-test_data[i][2]\n",
    "        if(e!=0):\n",
    "            z+=1\n",
    "        print(f\"[{'%6.2f' %test_data[i][0]} {'%6.2f' %test_data[i][1]}] Actual Label  {'%6.1f' %test_data[i][2]} Predicted Label {'%6.1f' %p}\")\n",
    "    acc=(len(test_data)-z)/len(test_data)\n",
    "    acc=acc*100\n",
    "    print()\n",
    "    print(f\"Accuracy Rate: {acc}%\")\n",
    "    print()\n",
    "    print(f\"Learned Weights =[{w1} {w2}]\")\n",
    "    print(f\"Learned Bias = {b}\")"
   ]
  },
  {
   "cell_type": "code",
   "execution_count": 103,
   "id": "4d1ca6a0",
   "metadata": {},
   "outputs": [
    {
     "name": "stdout",
     "output_type": "stream",
     "text": [
      "[  5.32   0.37] Actual Label     1.0 Predicted Label    1.0\n",
      "[ -4.06  -6.25] Actual Label     1.0 Predicted Label    1.0\n",
      "[ -1.17  -6.83] Actual Label     1.0 Predicted Label    1.0\n",
      "[  7.60  -4.52] Actual Label     1.0 Predicted Label    1.0\n",
      "[ -1.72  -4.08] Actual Label     1.0 Predicted Label    1.0\n",
      "[  2.58   1.60] Actual Label     1.0 Predicted Label    1.0\n",
      "[  2.00  -4.68] Actual Label     1.0 Predicted Label    1.0\n",
      "[ -4.31  -4.93] Actual Label     1.0 Predicted Label    1.0\n",
      "[ -3.45  -7.12] Actual Label     1.0 Predicted Label    1.0\n",
      "[  9.20  -6.23] Actual Label     1.0 Predicted Label    1.0\n",
      "[ -5.56   7.41] Actual Label    -1.0 Predicted Label   -1.0\n",
      "[ -5.87   8.37] Actual Label    -1.0 Predicted Label   -1.0\n",
      "[ -0.23   2.23] Actual Label    -1.0 Predicted Label   -1.0\n",
      "[ -8.39   4.77] Actual Label    -1.0 Predicted Label   -1.0\n",
      "[ -6.69   9.28] Actual Label    -1.0 Predicted Label   -1.0\n",
      "[ -9.51  -5.91] Actual Label    -1.0 Predicted Label   -1.0\n",
      "[  4.00   5.59] Actual Label    -1.0 Predicted Label   -1.0\n",
      "[ -9.54   1.55] Actual Label    -1.0 Predicted Label   -1.0\n",
      "[ -9.97   0.31] Actual Label    -1.0 Predicted Label   -1.0\n",
      "[  2.80   9.71] Actual Label    -1.0 Predicted Label   -1.0\n",
      "\n",
      "Accuracy Rate: 100.0%\n",
      "\n",
      "Learned Weights =[1.581782594689916 1.549529054675116]\n",
      "Learned Bias = 0.7020913011344705\n"
     ]
    }
   ],
   "source": [
    "random.seed(a=10)\n",
    "w1=random.random()\n",
    "w2=random.random()\n",
    "b=random.random()\n",
    "weights_and_bias=perceptron(w1,w2,b,training_data)\n",
    "perceptron_test(weights_and_bias[0],weights_and_bias[1],weights_and_bias[2],testing_data)"
   ]
  },
  {
   "cell_type": "code",
   "execution_count": 68,
   "id": "f5ec8fdb",
   "metadata": {},
   "outputs": [],
   "source": []
  },
  {
   "cell_type": "code",
   "execution_count": 77,
   "id": "24b965fc",
   "metadata": {},
   "outputs": [
    {
     "data": {
      "text/plain": [
       "0"
      ]
     },
     "execution_count": 77,
     "metadata": {},
     "output_type": "execute_result"
    }
   ],
   "source": []
  },
  {
   "cell_type": "code",
   "execution_count": null,
   "id": "0ae82ba0",
   "metadata": {},
   "outputs": [],
   "source": []
  }
 ],
 "metadata": {
  "kernelspec": {
   "display_name": "Python 3 (ipykernel)",
   "language": "python",
   "name": "python3"
  },
  "language_info": {
   "codemirror_mode": {
    "name": "ipython",
    "version": 3
   },
   "file_extension": ".py",
   "mimetype": "text/x-python",
   "name": "python",
   "nbconvert_exporter": "python",
   "pygments_lexer": "ipython3",
   "version": "3.9.7"
  }
 },
 "nbformat": 4,
 "nbformat_minor": 5
}
