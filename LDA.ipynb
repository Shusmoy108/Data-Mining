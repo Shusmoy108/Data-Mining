{
 "cells": [
  {
   "cell_type": "code",
   "execution_count": 2,
   "id": "b18c8921",
   "metadata": {},
   "outputs": [],
   "source": [
    "from sklearn.datasets import fetch_20newsgroups\n",
    "from sklearn.feature_extraction.text import TfidfVectorizer\n",
    "from sklearn.decomposition import LatentDirichletAllocation\n",
    "from nltk.tokenize import RegexpTokenizer\n",
    "from sklearn.model_selection import GridSearchCV\n",
    "import matplotlib.pyplot as plt\n",
    "import numpy as np\n",
    "from sklearn import metrics"
   ]
  },
  {
   "cell_type": "code",
   "execution_count": 8,
   "id": "05076975",
   "metadata": {},
   "outputs": [],
   "source": [
    "newsgroups_train = fetch_20newsgroups(subset='train',remove=('headers', 'footers', 'quotes'))\n",
    "tokenizer = RegexpTokenizer(r'\\w+')\n",
    "# vectorizer = TfidfVectorizer(lowercase=True,\n",
    "#                         stop_words='english',\n",
    "#                         ngram_range = (1,1),\n",
    "#                         tokenizer = tokenizer.tokenize)\n",
    "vectorizer = TfidfVectorizer()\n",
    "vectors = vectorizer.fit_transform(newsgroups_train.data)"
   ]
  },
  {
   "cell_type": "code",
   "execution_count": 46,
   "id": "d2a4d747",
   "metadata": {},
   "outputs": [],
   "source": [
    "newsgroups_test = fetch_20newsgroups(subset='test',remove=('headers', 'footers', 'quotes'))\n",
    "vectors_test = vectorizer.transform(newsgroups_test.data)"
   ]
  },
  {
   "cell_type": "code",
   "execution_count": 55,
   "id": "867d2d0a",
   "metadata": {},
   "outputs": [],
   "source": [
    "# lda = LatentDirichletAllocation(n_components=20, random_state=1,learning_decay=0.5,learning_method=\"online\",max_iter=100)\n",
    "# lda.fit(vectors)"
   ]
  },
  {
   "cell_type": "code",
   "execution_count": 56,
   "id": "f185167b",
   "metadata": {},
   "outputs": [],
   "source": [
    "# print(lda.n_feature_in)"
   ]
  },
  {
   "cell_type": "code",
   "execution_count": 59,
   "id": "6031a025",
   "metadata": {},
   "outputs": [],
   "source": [
    "doc_topic_dist_unnormalized = np.matrix(lda.transform(vectors_test))\n",
    "labes=doc_topic_dist_unnormalized.argmax(axis=1)"
   ]
  },
  {
   "cell_type": "code",
   "execution_count": 76,
   "id": "5f3b1db2",
   "metadata": {},
   "outputs": [
    {
     "name": "stdout",
     "output_type": "stream",
     "text": [
      "The scikit-learn version is 0.24.2.\n"
     ]
    }
   ],
   "source": [
    "import sklearn\n",
    "print('The scikit-learn version is {}.'.format(sklearn.__version__))"
   ]
  },
  {
   "cell_type": "code",
   "execution_count": 60,
   "id": "3af2bc37",
   "metadata": {},
   "outputs": [
    {
     "name": "stdout",
     "output_type": "stream",
     "text": [
      "7532\n",
      "7532\n",
      "7171\n",
      "4.7928836962294215\n"
     ]
    }
   ],
   "source": [
    "print(len(labes))\n",
    "print(len(newsgroups_test.target))\n",
    "m=0;\n",
    "for i in range(len(labes)):\n",
    "    if(labes[i][0]!=newsgroups_test.target[i]):\n",
    "        m+=1\n",
    "acc=(len(labes)-m)/len(labes)\n",
    "print(m)\n",
    "print(acc*100)"
   ]
  },
  {
   "cell_type": "code",
   "execution_count": 47,
   "id": "d405c151",
   "metadata": {},
   "outputs": [],
   "source": [
    "num_components=8\n",
    "\n",
    "# Create LDA object\n",
    "model=LatentDirichletAllocation(n_components=num_components, random_state=1)\n",
    "\n",
    "# Fit and Transform SVD model on data\n",
    "lda_matrix = model.fit_transform(vectors)\n",
    "\n",
    "# Get Components \n",
    "lda_components=model.components_\n",
    "# predict topics for test data\n",
    "# unnormalized doc-topic distribution\n",
    "#X_test = tf_vectorizer.transform(test)\n"
   ]
  },
  {
   "cell_type": "code",
   "execution_count": 60,
   "id": "35451f92",
   "metadata": {},
   "outputs": [],
   "source": [
    "# doc_topic_dist_unnormalized = np.matrix(model.transform(vectors_test))\n",
    "\n",
    "# normalize the distribution (only needed if you want to work with the probabilities)\n",
    "# doc_topic_dist = doc_topic_dist_unnormalized/doc_topic_dist_unnormalized.sum(axis=1)\n",
    "# print(doc_topic_dist)\n",
    "# print(doc_topic_dist.argmax(axis=1))"
   ]
  },
  {
   "cell_type": "code",
   "execution_count": 41,
   "id": "644df850",
   "metadata": {},
   "outputs": [
    {
     "name": "stdout",
     "output_type": "stream",
     "text": [
      "Topic 0:  ['oracle', 'bmug', 'ebosco', 'mancus', 'caldwell', 'sq', 'opel']\n",
      "Topic 1:  ['the', 'to', 'of', 'and', 'in', 'is', 'that']\n",
      "Topic 2:  ['jr0930', 'workspace', '02106', 'indyvax', 'xopendisplay', 'iupui', 'hismanal']\n",
      "Topic 3:  ['ax', 'keller', 'angmar', 'cosmo', 'kkeller', 'journalism', 'gsh7w']\n",
      "Topic 4:  ['catbyte', 'dtmedin', 'b30', 'mbeaving', 'lib', 'irwin', 'medin']\n",
      "Topic 5:  ['egalon', 'ssc', 'claudio', 'oliveira', 'traven', 'telix', 'pollux']\n",
      "Topic 6:  ['hiram', 'ashok', 'mayhew', 'wtm', 'bgardner', 'blaine', 'neoucom']\n",
      "Topic 7:  ['msg', 'dyer', 'spdcc', 'rauser', 'petch', 'candida', 'jagr']\n"
     ]
    }
   ],
   "source": [
    "terms = vectorizer.get_feature_names()\n",
    "\n",
    "for index, component in enumerate(lda_components):\n",
    "    zipped = zip(terms, component)\n",
    "    top_terms_key=sorted(zipped, key = lambda t: t[1], reverse=True)[:7]\n",
    "    top_terms_list=list(dict(top_terms_key).keys())\n",
    "    print(\"Topic \"+str(index)+\": \",top_terms_list)"
   ]
  },
  {
   "cell_type": "code",
   "execution_count": 9,
   "id": "1116abd4",
   "metadata": {},
   "outputs": [
    {
     "data": {
      "text/plain": [
       "GridSearchCV(estimator=LatentDirichletAllocation(),\n",
       "             param_grid={'learning_decay': [0.5, 0.7],\n",
       "                         'n_components': [10, 15]})"
      ]
     },
     "execution_count": 9,
     "metadata": {},
     "output_type": "execute_result"
    }
   ],
   "source": [
    "# Define Search Param\n",
    "search_params = {'n_components': [10,15], 'learning_decay': [.5, 0.7]}\n",
    "\n",
    "# Init the Model\n",
    "lda = LatentDirichletAllocation()\n",
    "\n",
    "# Init Grid Search Class\n",
    "model = GridSearchCV(lda, param_grid=search_params)\n",
    "\n",
    "# Do the Grid Search\n",
    "model.fit(vectors)"
   ]
  },
  {
   "cell_type": "code",
   "execution_count": 58,
   "id": "4e16db52",
   "metadata": {},
   "outputs": [],
   "source": [
    "# GridSearchCV(cv=None, error_score='raise',\n",
    "#        estimator=LatentDirichletAllocation(batch_size=128, doc_topic_prior=None,\n",
    "#              evaluate_every=-1, learning_decay=0.7, learning_method=None,\n",
    "#              learning_offset=10.0, max_doc_update_iter=100, max_iter=10,\n",
    "#              mean_change_tol=0.001, n_components=10, n_jobs=1,\n",
    "#              n_topics=None, perp_tol=0.1, random_state=None,\n",
    "#              topic_word_prior=None, total_samples=1000000.0, verbose=0),\n",
    "#        fit_params=None, iid=True, n_jobs=1,\n",
    "#        param_grid={'n_components': [10, 15], 'learning_decay': [0.5, 0.7]},\n",
    "#        pre_dispatch='2*n_jobs', refit=True, return_train_score='warn',\n",
    "#        scoring=None, verbose=0)"
   ]
  },
  {
   "cell_type": "code",
   "execution_count": 17,
   "id": "b521716f",
   "metadata": {},
   "outputs": [
    {
     "name": "stdout",
     "output_type": "stream",
     "text": [
      "Best Model's Params:  {'learning_decay': 0.5, 'n_components': 10}\n",
      "Best Log Likelihood Score:  -279523.1993188141\n",
      "Model Perplexity:  164796.7235914736\n"
     ]
    }
   ],
   "source": [
    "# Best Model\n",
    "best_lda_model = model.best_estimator_\n",
    "\n",
    "# Model Parameters\n",
    "print(\"Best Model's Params: \", model.best_params_)\n",
    "\n",
    "# Log Likelihood Score\n",
    "print(\"Best Log Likelihood Score: \", model.best_score_)\n",
    "\n",
    "# Perplexity\n",
    "print(\"Model Perplexity: \", best_lda_model.perplexity(vectors))"
   ]
  },
  {
   "cell_type": "code",
   "execution_count": 57,
   "id": "85f225aa",
   "metadata": {},
   "outputs": [],
   "source": [
    "# Get Log Likelyhoods from Grid Search Output\n",
    "n_topics = [10, 15]\n",
    "# log_likelyhoods_5 = [round(gscore.mean_validation_score) for gscore in model.cv_results_ if gscore.params['learning_decay']==0.5]\n",
    "# log_likelyhoods_7 = [round(gscore.mean_validation_score) for gscore in model.cv_results_ if gscore.params['learning_decay']==0.7]\n",
    "# log_likelyhoods_9 = [round(gscore.mean_validation_score) for gscore in model.cv_results_ if gscore.parameters['learning_decay']==0.9]\n",
    "\n",
    "# Show graph\n",
    "# plt.figure(figsize=(12, 8))\n",
    "# plt.plot(n_topics, log_likelyhoods_5, label='0.5')\n",
    "# plt.plot(n_topics, log_likelyhoods_7, label='0.7')\n",
    "# plt.plot(n_topics, log_likelyhoods_9, label='0.9')\n",
    "# plt.title(\"Choosing Optimal LDA Model\")\n",
    "# plt.xlabel(\"Num Topics\")\n",
    "# plt.ylabel(\"Log Likelyhood Scores\")\n",
    "# plt.legend(title='Learning decay', loc='best')\n",
    "# plt.show()"
   ]
  },
  {
   "cell_type": "code",
   "execution_count": 32,
   "id": "907c384c",
   "metadata": {},
   "outputs": [
    {
     "name": "stdout",
     "output_type": "stream",
     "text": [
      "<built-in method items of dict object at 0x000001313C999C80>\n",
      "mean_fit_time\n",
      "[25.21519012 35.84408865]\n",
      "std_fit_time\n",
      "[1.94332899 6.52504797]\n",
      "mean_score_time\n",
      "[0.64138322 0.72031679]\n",
      "std_score_time\n",
      "[0.0497628  0.05762157]\n",
      "param_learning_decay\n",
      "[0.5 0.7]\n",
      "param_n_components\n",
      "[10 10]\n",
      "params\n",
      "[{'learning_decay': 0.5, 'n_components': 10}, {'learning_decay': 0.7, 'n_components': 10}]\n",
      "split0_test_score\n",
      "[-277191.36350667 -281188.46045791]\n",
      "split1_test_score\n",
      "[-282605.21560971 -282148.74133555]\n",
      "split2_test_score\n",
      "[-285259.32954121 -284621.59664876]\n",
      "split3_test_score\n",
      "[-276988.569942   -279659.23248665]\n",
      "split4_test_score\n",
      "[-275571.51799449 -286416.95405876]\n",
      "mean_test_score\n",
      "[-279523.19931881 -282806.99699753]\n",
      "std_test_score\n",
      "[3738.43828268 2420.1629838 ]\n",
      "rank_test_score\n",
      "[1 2]\n"
     ]
    }
   ],
   "source": [
    "print(model.cv_results_.items)\n",
    "for key,value in model.cv_results_.items():\n",
    "    print(key)\n",
    "    print(value)"
   ]
  },
  {
   "cell_type": "code",
   "execution_count": 12,
   "id": "66f378f9",
   "metadata": {},
   "outputs": [
    {
     "name": "stdout",
     "output_type": "stream",
     "text": [
      "['alt.atheism',\n",
      " 'comp.graphics',\n",
      " 'comp.os.ms-windows.misc',\n",
      " 'comp.sys.ibm.pc.hardware',\n",
      " 'comp.sys.mac.hardware',\n",
      " 'comp.windows.x',\n",
      " 'misc.forsale',\n",
      " 'rec.autos',\n",
      " 'rec.motorcycles',\n",
      " 'rec.sport.baseball',\n",
      " 'rec.sport.hockey',\n",
      " 'sci.crypt',\n",
      " 'sci.electronics',\n",
      " 'sci.med',\n",
      " 'sci.space',\n",
      " 'soc.religion.christian',\n",
      " 'talk.politics.guns',\n",
      " 'talk.politics.mideast',\n",
      " 'talk.politics.misc',\n",
      " 'talk.religion.misc']\n"
     ]
    }
   ],
   "source": [
    "from pprint import pprint\n",
    "pprint(list(newsgroups_train.target_names))"
   ]
  },
  {
   "cell_type": "code",
   "execution_count": 9,
   "id": "55e65867",
   "metadata": {},
   "outputs": [
    {
     "data": {
      "text/plain": [
       "'From: jgreen@amber (Joe Green)\\nSubject: Re: Weitek P9000 ?\\nOrganization: Harris Computer Systems Division\\nLines: 14\\nDistribution: world\\nNNTP-Posting-Host: amber.ssd.csd.harris.com\\nX-Newsreader: TIN [version 1.1 PL9]\\n\\nRobert J.C. Kyanko (rob@rjck.UUCP) wrote:\\n> abraxis@iastate.edu writes in article <abraxis.734340159@class1.iastate.edu>:\\n> > Anyone know about the Weitek P9000 graphics chip?\\n> As far as the low-level stuff goes, it looks pretty nice.  It\\'s got this\\n> quadrilateral fill command that requires just the four points.\\n\\nDo you have Weitek\\'s address/phone number?  I\\'d like to get some information\\nabout this chip.\\n\\n--\\nJoe Green\\t\\t\\t\\tHarris Corporation\\njgreen@csd.harris.com\\t\\t\\tComputer Systems Division\\n\"The only thing that really scares me is a person with no sense of humor.\"\\n\\t\\t\\t\\t\\t\\t-- Jonathan Winters\\n'"
      ]
     },
     "execution_count": 9,
     "metadata": {},
     "output_type": "execute_result"
    }
   ],
   "source": [
    "newsgroups_train.data[3]"
   ]
  },
  {
   "cell_type": "code",
   "execution_count": 10,
   "id": "44d8800e",
   "metadata": {},
   "outputs": [
    {
     "data": {
      "text/plain": [
       "759"
      ]
     },
     "execution_count": 10,
     "metadata": {},
     "output_type": "execute_result"
    }
   ],
   "source": [
    "import numpy as np\n",
    "import math\n",
    "# loading the train dataset from csv skiping the first row(label)\n",
    "data = np.loadtxt('MNIST_train.csv',comments='#',delimiter=',',skiprows=1)\n",
    "x = int(len(data)*.8) # spliting the data into 80% and 20% for traing and vallidation\n",
    "# validation data will be used for finding the optimal value k in KNN\n",
    "np.random.shuffle(data)\n",
    "train_data=data[:x,:] # training_data\n",
    "validation_data=data[x:,:]\n",
    "# loading the test dataset from csv skiping the first row(label)\n",
    "test_data = np.loadtxt('MNIST_test.csv',comments='#',delimiter=',',skiprows=1)\n",
    "len(train_data)"
   ]
  },
  {
   "cell_type": "code",
   "execution_count": 11,
   "id": "abe993f9",
   "metadata": {},
   "outputs": [
    {
     "data": {
      "text/plain": [
       "27.54995462791182"
      ]
     },
     "execution_count": 11,
     "metadata": {},
     "output_type": "execute_result"
    }
   ],
   "source": [
    "math.sqrt(759)"
   ]
  },
  {
   "cell_type": "code",
   "execution_count": 9,
   "id": "c37244f3",
   "metadata": {},
   "outputs": [],
   "source": [
    "from sklearn.feature_extraction.text import TfidfVectorizer\n",
    "from sklearn.decomposition import LatentDirichletAllocation\n",
    "from sklearn.datasets import fetch_20newsgroups\n",
    "import numpy as np\n",
    "\n",
    "# grab a sample data set\n",
    "dataset = fetch_20newsgroups(shuffle=True)\n",
    "train,test = dataset.data[:500], dataset.data[-3:]\n",
    "\n",
    "# vectorizer the features\n",
    "tf_vectorizer = TfidfVectorizer()\n",
    "X_train = tf_vectorizer.fit_transform(train)\n",
    "\n",
    "# train the model\n",
    "lda = LatentDirichletAllocation(n_components=20,random_state=1,learning_decay=0.7,learning_method=\"online\",max_iter=5,learning_offset=4)\n",
    "lda.fit(X_train)\n",
    "\n",
    "# predict topics for test data\n",
    "# unnormalized doc-topic distribution\n",
    "X_test = tf_vectorizer.transform(test)\n",
    "doc_topic_dist_unnormalized = np.matrix(lda.transform(X_test))\n",
    "\n",
    "# normalize the distribution (only needed if you want to work with the probabilities)\n",
    "doc_topic_dist = doc_topic_dist_unnormalized/doc_topic_dist_unnormalized.sum(axis=1)"
   ]
  },
  {
   "cell_type": "code",
   "execution_count": 100,
   "id": "4b4d890d",
   "metadata": {
    "scrolled": true
   },
   "outputs": [
    {
     "name": "stdout",
     "output_type": "stream",
     "text": [
      "[[0.00763301 0.85497282 0.00763301 0.00763301 0.00763301 0.00763301\n",
      "  0.00763301 0.00763301 0.00763301 0.00763301 0.00763301 0.00763301\n",
      "  0.00763301 0.00763301 0.00763301 0.00763301 0.00763301 0.00763301\n",
      "  0.00763301 0.00763301]\n",
      " [0.00533394 0.89865521 0.00533394 0.00533394 0.00533394 0.00533394\n",
      "  0.00533394 0.00533394 0.00533394 0.00533394 0.00533394 0.00533394\n",
      "  0.00533394 0.00533394 0.00533394 0.00533394 0.00533394 0.00533394\n",
      "  0.00533394 0.00533394]\n",
      " [0.00694929 0.8679635  0.00694929 0.00694929 0.00694929 0.00694929\n",
      "  0.00694929 0.00694929 0.00694929 0.00694929 0.00694929 0.00694929\n",
      "  0.00694929 0.00694929 0.00694929 0.00694929 0.00694929 0.00694929\n",
      "  0.00694929 0.00694929]]\n",
      "[[1]\n",
      " [1]\n",
      " [1]]\n",
      "[3 1 8]\n",
      "2\n"
     ]
    }
   ],
   "source": [
    "labes=doc_topic_dist_unnormalized.argmax(axis=1)\n",
    "y=dataset.target[-3:]\n",
    "print(doc_topic_dist_unnormalized)\n",
    "print(labes)\n",
    "print(y)\n",
    "m=0;\n",
    "for i in range(len(labes)):\n",
    "    if(labes[i][0]!=y[i]):\n",
    "        m+=1\n",
    "print(m)"
   ]
  },
  {
   "cell_type": "code",
   "execution_count": 106,
   "id": "ed5c6651",
   "metadata": {},
   "outputs": [
    {
     "name": "stdout",
     "output_type": "stream",
     "text": [
      "Topic 0:\n",
      "[670 432 853 259 773 433 272 855 527 692]\n",
      "people gun state control right guns crime states law police\n",
      "Topic 1:\n",
      "[900 734 171 996 303 540 321 845 108 508]\n",
      "time question book years did like don space answer just\n",
      "Topic 2:\n",
      "[612 543 778 795 857 902 275 293 487 997]\n",
      "mr line rules science stephanopoulos title current define int yes\n",
      "Topic 3:\n",
      "[509 214 511 231 340 636 296 100 931 164]\n",
      "key chip keys clipper encryption number des algorithm use bit\n",
      "Topic 4:\n",
      "[336 235 274 951 952 278 569 922  18 808]\n",
      "edu com cs vs w7 cx mail uk 17 send\n",
      "Topic 5:\n",
      "[931 318 972 716 961 932 690 307 199 940]\n",
      "use does window problem way used point different case value\n",
      "Topic 6:\n",
      "[973 893 516 451 286 318 322 716 540 938]\n",
      "windows thanks know help db does dos problem like using\n",
      "Topic 7:\n",
      "[163 960 337 775 297 589 317 661 540 919]\n",
      "bike water effect road design media dod paper like turn\n",
      "Topic 8:\n",
      "[321 508 540 897 516 670 421 944 420 790]\n",
      "don just like think know people good ve going say\n",
      "Topic 9:\n",
      "[193 625 710 421 703 932  98 785 641 428]\n",
      "car new price good power used air sale offer ground\n",
      "Topic 10:\n",
      "[380 143 721 336 397 481 381 931 471 945]\n",
      "file available program edu ftp information files use image version\n",
      "Topic 11:\n",
      "[147 583 148 401  80  15 682  25   7  48]\n",
      "ax max b8f g9v a86 145 pl 1d9 0t 34u\n",
      "Topic 12:\n",
      "[424 527 712 804 533 340 268 375 886 481]\n",
      "government law privacy security legal encryption court fbi technology information\n",
      "Topic 13:\n",
      "[194 164 592 657 947 234 280 602 606  17]\n",
      "card bit memory output video color data mode monitor 16\n",
      "Topic 14:\n",
      "[325 798 313 566 441 114 328 260 833 696]\n",
      "drive scsi disk mac hard apple drives controller software port\n",
      "Topic 15:\n",
      "[418 500 670 156 218 161 790 318 538 221]\n",
      "god jesus people believe christian bible say does life church\n",
      "Topic 16:\n",
      "[995 402 883 403 799 686 457 688 529 687]\n",
      "year game team games season play hockey players league player\n",
      "Topic 17:\n",
      "[ 8  0 16 34 28 10 11 14 17 13]\n",
      "10 00 15 25 20 11 12 14 16 13\n",
      "Topic 18:\n",
      "[128 496 129 957 670 502 917 497 784 977]\n",
      "armenian israel armenians war people jews turkish israeli said women\n",
      "Topic 19:\n",
      "[706 670 625 784 446 995 927 793 284 981]\n",
      "president people new said health year university school day work\n"
     ]
    }
   ],
   "source": [
    "from sklearn.feature_extraction.text import TfidfVectorizer, CountVectorizer\n",
    "from sklearn.datasets import fetch_20newsgroups\n",
    "from sklearn.decomposition import NMF, LatentDirichletAllocation\n",
    "\n",
    "def display_topics(model, feature_names, no_top_words):\n",
    "    for topic_idx, topic in enumerate(model.components_):\n",
    "        print(\"Topic %d:\" % (topic_idx))\n",
    "        print(topic.argsort()[:-no_top_words - 1:-1])\n",
    "        print (\" \".join([feature_names[i] for i in topic.argsort()[:-no_top_words - 1:-1]]))\n",
    "\n",
    "dataset = fetch_20newsgroups(shuffle=True, random_state=1, remove=('headers', 'footers', 'quotes'))\n",
    "documents = dataset.data\n",
    "\n",
    "no_features = 1000\n",
    "\n",
    "# NMF is able to use tf-idf\n",
    "tfidf_vectorizer = TfidfVectorizer(max_df=0.95, min_df=2, max_features=no_features, stop_words='english')\n",
    "tfidf = tfidf_vectorizer.fit_transform(documents)\n",
    "tfidf_feature_names = tfidf_vectorizer.get_feature_names()\n",
    "\n",
    "# LDA can only use raw term counts for LDA because it is a probabilistic graphical model\n",
    "tf_vectorizer = CountVectorizer(max_df=0.95, min_df=2, max_features=no_features, stop_words='english')\n",
    "tf = tf_vectorizer.fit_transform(documents)\n",
    "tf_feature_names = tf_vectorizer.get_feature_names()\n",
    "\n",
    "no_topics = 20\n",
    "\n",
    "# Run NMF\n",
    "nmf = NMF(n_components=no_topics, random_state=1, alpha=.1, l1_ratio=.5, init='nndsvd').fit(tfidf)\n",
    "\n",
    "# Run LDA\n",
    "lda = LatentDirichletAllocation(n_components=no_topics, max_iter=5, learning_method='online', learning_offset=50.,random_state=0).fit(tf)\n",
    "\n",
    "no_top_words = 10\n",
    "#display_topics(nmf, tfidf_feature_names, no_top_words)\n",
    "display_topics(lda, tf_feature_names, no_top_words)"
   ]
  },
  {
   "cell_type": "code",
   "execution_count": 47,
   "id": "d5d34733",
   "metadata": {},
   "outputs": [],
   "source": [
    "model= GridSearchCV(cv=None, error_score='raise',\n",
    "       estimator=LatentDirichletAllocation(batch_size=128, doc_topic_prior=None,\n",
    "             evaluate_every=-1, learning_decay=0.7, learning_method=\"online\",\n",
    "             learning_offset=10.0, max_doc_update_iter=100, max_iter=10,\n",
    "             mean_change_tol=0.001, n_components=10, n_jobs=1,\n",
    "            perp_tol=0.1, random_state=2,\n",
    "             topic_word_prior=None, total_samples=1000000.0, verbose=0),\n",
    "      n_jobs=1,\n",
    "       param_grid={'n_components': [5,10,15,20], 'learning_decay': [0.5, 0.7,0.9]},\n",
    "       pre_dispatch='2*n_jobs', refit=True, return_train_score='warn',\n",
    "       scoring=None, verbose=0)"
   ]
  },
  {
   "cell_type": "code",
   "execution_count": 49,
   "id": "ff1f8ef1",
   "metadata": {},
   "outputs": [
    {
     "data": {
      "text/plain": [
       "GridSearchCV(error_score='raise',\n",
       "             estimator=LatentDirichletAllocation(learning_method='online',\n",
       "                                                 n_jobs=1, random_state=2),\n",
       "             n_jobs=1,\n",
       "             param_grid={'learning_decay': [0.5, 0.7, 0.9],\n",
       "                         'n_components': [5, 10, 15, 20]},\n",
       "             return_train_score='warn')"
      ]
     },
     "execution_count": 49,
     "metadata": {},
     "output_type": "execute_result"
    }
   ],
   "source": [
    "model.fit(X_train)"
   ]
  },
  {
   "cell_type": "code",
   "execution_count": 50,
   "id": "8b7e15cb",
   "metadata": {},
   "outputs": [
    {
     "name": "stdout",
     "output_type": "stream",
     "text": [
      "Best Model's Params:  {'learning_decay': 0.5, 'n_components': 5}\n",
      "Best Log Likelihood Score:  -5418.8507513837\n",
      "Model Perplexity:  63420.42479093151\n"
     ]
    }
   ],
   "source": [
    "# Best Model\n",
    "best_lda_model = model.best_estimator_\n",
    "\n",
    "# Model Parameters\n",
    "print(\"Best Model's Params: \", model.best_params_)\n",
    "\n",
    "# Log Likelihood Score\n",
    "print(\"Best Log Likelihood Score: \", model.best_score_)\n",
    "\n",
    "# Perplexity\n",
    "print(\"Model Perplexity: \", best_lda_model.perplexity(X_train))"
   ]
  },
  {
   "cell_type": "code",
   "execution_count": 51,
   "id": "7634a730",
   "metadata": {},
   "outputs": [],
   "source": [
    "#print(model.cv_results_)\n",
    "#print(len(model.cv_results_['mean_train_score']))\n",
    "l5=[]\n",
    "l7=[]\n",
    "l9=[]\n",
    "for i in range(len(model.cv_results_['params'])):\n",
    "    if(model.cv_results_['params'][i]['learning_decay']==0.5):\n",
    "            l5.append(round(model.cv_results_['mean_train_score'][i]))\n",
    "    elif(model.cv_results_['params'][i]['learning_decay']==0.7):\n",
    "            l7.append(round(model.cv_results_['mean_train_score'][i]))\n",
    "    elif(model.cv_results_['params'][i]['learning_decay']==0.9):\n",
    "            l9.append(round(model.cv_results_['mean_train_score'][i]))"
   ]
  },
  {
   "cell_type": "code",
   "execution_count": 54,
   "id": "dfe45160",
   "metadata": {},
   "outputs": [
    {
     "data": {
      "image/png": "[encoded data removed]",
      "text/plain": [
       "<Figure size 864x576 with 1 Axes>"
      ]
     },
     "metadata": {
      "needs_background": "light"
     },
     "output_type": "display_data"
    }
   ],
   "source": [
    "# Get Log Likelyhoods from Grid Search Output\n",
    "n_topics = [5,10, 15,20]\n",
    "# log_likelyhoods_5 = [round(gscore.mean_validation_score) for gscore in model.cv_results_ if gscore.params['learning_decay']==0.5]\n",
    "# log_likelyhoods_7 = [round(gscore.mean_validation_score) for gscore in model.cv_results_ if gscore.params['learning_decay']==0.7]\n",
    "# log_likelyhoods_9 = [round(gscore.mean_validation_score) for gscore in model.cv_results_ if gscore.parameters['learning_decay']==0.9]\n",
    "\n",
    "# Show graph\n",
    "plt.figure(figsize=(12, 8))\n",
    "plt.plot(n_topics, l5, label='0.5')\n",
    "plt.plot(n_topics, l7, label='0.7')\n",
    "plt.plot(n_topics, l9, label='0.9')\n",
    "plt.title(\"Choosing Optimal LDA Model\")\n",
    "plt.xlabel(\"Num Topics\")\n",
    "plt.ylabel(\"Log Likelyhood Scores\")\n",
    "plt.legend(title='Learning decay', loc='best')\n",
    "plt.show()"
   ]
  },
  {
   "cell_type": "code",
   "execution_count": null,
   "id": "fae498bd",
   "metadata": {},
   "outputs": [],
   "source": []
  }
 ],
 "metadata": {
  "kernelspec": {
   "display_name": "Python 3 (ipykernel)",
   "language": "python",
   "name": "python3"
  },
  "language_info": {
   "codemirror_mode": {
    "name": "ipython",
    "version": 3
   },
   "file_extension": ".py",
   "mimetype": "text/x-python",
   "name": "python",
   "nbconvert_exporter": "python",
   "pygments_lexer": "ipython3",
   "version": "3.9.7"
  }
 },
 "nbformat": 4,
 "nbformat_minor": 5
}
