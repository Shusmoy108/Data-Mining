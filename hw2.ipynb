{
 "cells": [
  {
   "cell_type": "code",
   "execution_count": 23,
   "id": "7beb3883",
   "metadata": {},
   "outputs": [
    {
     "data": {
      "text/html": [
       "<div>\n",
       "<style scoped>\n",
       "    .dataframe tbody tr th:only-of-type {\n",
       "        vertical-align: middle;\n",
       "    }\n",
       "\n",
       "    .dataframe tbody tr th {\n",
       "        vertical-align: top;\n",
       "    }\n",
       "\n",
       "    .dataframe thead th {\n",
       "        text-align: right;\n",
       "    }\n",
       "</style>\n",
       "<table border=\"1\" class=\"dataframe\">\n",
       "  <thead>\n",
       "    <tr style=\"text-align: right;\">\n",
       "      <th></th>\n",
       "      <th>level</th>\n",
       "      <th>lang</th>\n",
       "      <th>tweets</th>\n",
       "      <th>phd</th>\n",
       "      <th>class</th>\n",
       "    </tr>\n",
       "  </thead>\n",
       "  <tbody>\n",
       "    <tr>\n",
       "      <th>0</th>\n",
       "      <td>Senior</td>\n",
       "      <td>Java</td>\n",
       "      <td>no</td>\n",
       "      <td>no</td>\n",
       "      <td>False</td>\n",
       "    </tr>\n",
       "    <tr>\n",
       "      <th>1</th>\n",
       "      <td>Senior</td>\n",
       "      <td>Java</td>\n",
       "      <td>no</td>\n",
       "      <td>yes</td>\n",
       "      <td>False</td>\n",
       "    </tr>\n",
       "    <tr>\n",
       "      <th>2</th>\n",
       "      <td>Mid</td>\n",
       "      <td>Python</td>\n",
       "      <td>no</td>\n",
       "      <td>no</td>\n",
       "      <td>True</td>\n",
       "    </tr>\n",
       "    <tr>\n",
       "      <th>3</th>\n",
       "      <td>Junior</td>\n",
       "      <td>Python</td>\n",
       "      <td>no</td>\n",
       "      <td>no</td>\n",
       "      <td>True</td>\n",
       "    </tr>\n",
       "    <tr>\n",
       "      <th>4</th>\n",
       "      <td>Junior</td>\n",
       "      <td>R</td>\n",
       "      <td>yes</td>\n",
       "      <td>no</td>\n",
       "      <td>True</td>\n",
       "    </tr>\n",
       "  </tbody>\n",
       "</table>\n",
       "</div>"
      ],
      "text/plain": [
       "    level    lang tweets  phd  class\n",
       "0  Senior    Java     no   no  False\n",
       "1  Senior    Java     no  yes  False\n",
       "2     Mid  Python     no   no   True\n",
       "3  Junior  Python     no   no   True\n",
       "4  Junior       R    yes   no   True"
      ]
     },
     "execution_count": 23,
     "metadata": {},
     "output_type": "execute_result"
    }
   ],
   "source": [
    "import pandas as pd\n",
    "\n",
    "training_data = [\n",
    "({'level':'Senior', 'lang':'Java', 'tweets':'no', 'phd':'no'}, False),\n",
    "({'level':'Senior', 'lang':'Java', 'tweets':'no', 'phd':'yes'}, False),\n",
    "({'level':'Mid', 'lang':'Python', 'tweets':'no', 'phd':'no'}, True),\n",
    "({'level':'Junior', 'lang':'Python', 'tweets':'no', 'phd':'no'}, True),\n",
    "({'level':'Junior', 'lang':'R', 'tweets':'yes', 'phd':'no'}, True),\n",
    "({'level':'Junior', 'lang':'R', 'tweets':'yes', 'phd':'yes'}, False),\n",
    "({'level':'Mid', 'lang':'R', 'tweets':'yes', 'phd':'yes'}, True),\n",
    "({'level':'Senior', 'lang':'Python', 'tweets':'no', 'phd':'no'}, False),\n",
    "({'level':'Senior', 'lang':'R', 'tweets':'yes', 'phd':'no'}, True),\n",
    "({'level':'Junior', 'lang':'Python', 'tweets':'yes', 'phd':'no'}, True),\n",
    "({'level':'Senior', 'lang':'Python', 'tweets':'yes', 'phd':'yes'}, True),\n",
    "({'level':'Mid', 'lang':'Python', 'tweets':'no', 'phd':'yes'}, True),\n",
    "({'level':'Mid', 'lang':'Java', 'tweets':'yes', 'phd':'no'}, True),\n",
    "({'level':'Junior', 'lang':'Python', 'tweets':'no', 'phd':'yes'}, False)\n",
    "]\n",
    "data=[]\n",
    "class_level=[]\n",
    "for i in range(len(training_data)):\n",
    "    data.append(training_data[i][0])\n",
    "    class_level.append(training_data[i][1])\n",
    "    \n",
    "df=pd.DataFrame(data)\n",
    "df['class']=class_level\n",
    "df.head()"
   ]
  },
  {
   "cell_type": "code",
   "execution_count": 31,
   "id": "78de4fa7",
   "metadata": {},
   "outputs": [
    {
     "data": {
      "text/plain": [
       "0.9402859586706311"
      ]
     },
     "execution_count": 31,
     "metadata": {},
     "output_type": "execute_result"
    }
   ],
   "source": [
    "def find_total_entropy(data):\n",
    "    values=data['class'].unique()\n",
    "    e=0\n",
    "    for v in values:\n",
    "        prob = data['class'].value_counts()[v]/len(data['class'])\n",
    "        e += -prob*np.log2(prob)\n",
    "    return e\n",
    "find_total_entropy(df)   "
   ]
  },
  {
   "cell_type": "code",
   "execution_count": 53,
   "id": "65f58487",
   "metadata": {},
   "outputs": [
    {
     "data": {
      "text/plain": [
       "0.6935361388961918"
      ]
     },
     "execution_count": 53,
     "metadata": {},
     "output_type": "execute_result"
    }
   ],
   "source": [
    "def find_attribute_entropy(data,attribute):\n",
    "    class_values=data['class'].unique()\n",
    "    attribute_values=data[attribute].unique()\n",
    "    te=0\n",
    "    for values in attribute_values:\n",
    "        e=0\n",
    "        for c in class_values:\n",
    "            num = len(data[attribute][data[attribute]==values][data['class'] ==c])\n",
    "            den = len(data[attribute][data[attribute]==values])\n",
    "            prob = num/(den)\n",
    "            if(num==0):\n",
    "                e=0\n",
    "                break\n",
    "            e += -prob*np.log2(prob)\n",
    "        prob2 = den/len(data)\n",
    "        te += -prob2*e\n",
    "    return abs(te)\n",
    "\n",
    "find_attribute_entropy(df,'level')\n",
    "        "
   ]
  },
  {
   "cell_type": "code",
   "execution_count": 62,
   "id": "dc07d147",
   "metadata": {},
   "outputs": [
    {
     "data": {
      "text/plain": [
       "'level'"
      ]
     },
     "execution_count": 62,
     "metadata": {},
     "output_type": "execute_result"
    }
   ],
   "source": [
    "def tree_node(data):\n",
    "    entropy=[]\n",
    "    gain=[]\n",
    "    for k in data.keys()[:-1]:\n",
    "        gain.append(find_total_entropy(data)-find_attribute_entropy(data,k))\n",
    "    return data.keys()[:-1][np.argmax(gain)] \n",
    "                    \n",
    "        \n",
    "tree_node(df)"
   ]
  },
  {
   "cell_type": "code",
   "execution_count": 66,
   "id": "3dfd7e71",
   "metadata": {},
   "outputs": [
    {
     "data": {
      "text/html": [
       "<div>\n",
       "<style scoped>\n",
       "    .dataframe tbody tr th:only-of-type {\n",
       "        vertical-align: middle;\n",
       "    }\n",
       "\n",
       "    .dataframe tbody tr th {\n",
       "        vertical-align: top;\n",
       "    }\n",
       "\n",
       "    .dataframe thead th {\n",
       "        text-align: right;\n",
       "    }\n",
       "</style>\n",
       "<table border=\"1\" class=\"dataframe\">\n",
       "  <thead>\n",
       "    <tr style=\"text-align: right;\">\n",
       "      <th></th>\n",
       "      <th>level</th>\n",
       "      <th>lang</th>\n",
       "      <th>tweets</th>\n",
       "      <th>phd</th>\n",
       "      <th>class</th>\n",
       "    </tr>\n",
       "  </thead>\n",
       "  <tbody>\n",
       "    <tr>\n",
       "      <th>0</th>\n",
       "      <td>Mid</td>\n",
       "      <td>Python</td>\n",
       "      <td>no</td>\n",
       "      <td>no</td>\n",
       "      <td>True</td>\n",
       "    </tr>\n",
       "    <tr>\n",
       "      <th>1</th>\n",
       "      <td>Mid</td>\n",
       "      <td>R</td>\n",
       "      <td>yes</td>\n",
       "      <td>yes</td>\n",
       "      <td>True</td>\n",
       "    </tr>\n",
       "    <tr>\n",
       "      <th>2</th>\n",
       "      <td>Mid</td>\n",
       "      <td>Python</td>\n",
       "      <td>no</td>\n",
       "      <td>yes</td>\n",
       "      <td>True</td>\n",
       "    </tr>\n",
       "    <tr>\n",
       "      <th>3</th>\n",
       "      <td>Mid</td>\n",
       "      <td>Java</td>\n",
       "      <td>yes</td>\n",
       "      <td>no</td>\n",
       "      <td>True</td>\n",
       "    </tr>\n",
       "  </tbody>\n",
       "</table>\n",
       "</div>"
      ],
      "text/plain": [
       "  level    lang tweets  phd  class\n",
       "0   Mid  Python     no   no   True\n",
       "1   Mid       R    yes  yes   True\n",
       "2   Mid  Python     no  yes   True\n",
       "3   Mid    Java    yes   no   True"
      ]
     },
     "execution_count": 66,
     "metadata": {},
     "output_type": "execute_result"
    }
   ],
   "source": [
    "def find_subtree(data,attribute,value):\n",
    "    return data[data[attribute] == value].reset_index(drop=True)\n",
    "find_subtree(df,'level','Mid')"
   ]
  },
  {
   "cell_type": "code",
   "execution_count": 80,
   "id": "2abab049",
   "metadata": {},
   "outputs": [
    {
     "name": "stdout",
     "output_type": "stream",
     "text": [
      "{'level': {None: True, 'Junior': {'phd': {None: True, 'no': True, 'yes': False}}, 'Mid': True, 'Senior': {'tweets': {None: False, 'no': False, 'yes': True}}}}\n"
     ]
    }
   ],
   "source": [
    "def buildTree(df,tree=None): \n",
    "    winner = tree_node(df)\n",
    "    attValue = np.unique(df[winner])\n",
    "    if tree is None:                    \n",
    "        tree={}\n",
    "        tree[winner] = {}\n",
    "        tree[winner][None] = df[[winner,'class']]['class'].value_counts().idxmax()\n",
    "    for value in attValue:\n",
    "        subtree = find_subtree(df,winner,value)\n",
    "        clValue,counts = np.unique(subtree['class'],return_counts=True)                        \n",
    "        if len(counts)==1:\n",
    "            tree[winner][value] = clValue[0]                                                    \n",
    "        else:\n",
    "            tree[winner][value] = buildTree(subtree)            \n",
    "    return tree\n",
    "tree=buildTree(df)\n",
    "print(tree)"
   ]
  },
  {
   "cell_type": "code",
   "execution_count": 100,
   "id": "3b3a62c3",
   "metadata": {},
   "outputs": [
    {
     "name": "stdout",
     "output_type": "stream",
     "text": [
      "True\n"
     ]
    }
   ],
   "source": [
    "test={\"level\": \"Junior\"} \n",
    "def func(test, tree, default=None):\n",
    "    attribute = next(iter(tree)) \n",
    "    #print(attribute) \n",
    "    if attribute not in test.keys():\n",
    "         return tree[attribute][default]\n",
    "    if test[attribute] in tree[attribute].keys():\n",
    "        #print(tree[attribute].keys())\n",
    "        #print(test[attribute])\n",
    "        result = tree[attribute][test[attribute]]\n",
    "        if isinstance(result, dict):\n",
    "            return func(test, result)\n",
    "        else:\n",
    "            return result\n",
    "    else:\n",
    "        return tree[attribute][default]\n",
    "ans = func(test, tree)\n",
    "print(ans)\n"
   ]
  },
  {
   "cell_type": "code",
   "execution_count": null,
   "id": "b08537a7",
   "metadata": {},
   "outputs": [],
   "source": []
  },
  {
   "cell_type": "code",
   "execution_count": null,
   "id": "268eaffd",
   "metadata": {},
   "outputs": [],
   "source": []
  }
 ],
 "metadata": {
  "kernelspec": {
   "display_name": "Python 3 (ipykernel)",
   "language": "python",
   "name": "python3"
  },
  "language_info": {
   "codemirror_mode": {
    "name": "ipython",
    "version": 3
   },
   "file_extension": ".py",
   "mimetype": "text/x-python",
   "name": "python",
   "nbconvert_exporter": "python",
   "pygments_lexer": "ipython3",
   "version": "3.9.7"
  }
 },
 "nbformat": 4,
 "nbformat_minor": 5
}
