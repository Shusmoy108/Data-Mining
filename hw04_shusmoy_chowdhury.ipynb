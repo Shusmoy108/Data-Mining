{
 "cells": [
  {
   "cell_type": "code",
   "execution_count": 27,
   "id": "ac42b945",
   "metadata": {},
   "outputs": [],
   "source": [
    "'''\n",
    "Name: Shusmoy Chowdhury\n",
    "\n",
    "Stopping Criteria: When there is no missclassified data in the training data we stopped our perceptron algorithm\n",
    "\n",
    "Accuracy in Test: 100%\n",
    "\n",
    "Comment: \n",
    "For our algorithm we have used 0.001 as learning rate. We need 45 epochs to get 100% accuracy.\n",
    "Then we have used 0.001 as learning rate. We need 449 epochs to get 100% accuracy.\n",
    "Then we have used 0.01 as learning rate. We need 6 epochs to get 100% accuracy.\n",
    "Then we have used 0.1  as learning rate. We need 2 epochs to get 100% accuracy.\n",
    "So we can say learning rate controls how fast our perceptron will learn. \n",
    "But high learning sometimes might skip the optimal solution in peceptron and low learning rate will need more epoch to get good accuracy.\n",
    "So good learning rate is very important. We have used 0.001 as our learning rate stored in the variable alpha.\n",
    "'''\n",
    "import numpy as np \n",
    "training_data = np.loadtxt('training_data.txt',comments='#',delimiter=' ',) #Loading Training Data\n",
    "testing_data = np.loadtxt('testing_data.txt',comments='#',delimiter=' ',) #Loading Testing Data\n",
    "alpha=0.001 # learning rate"
   ]
  },
  {
   "cell_type": "code",
   "execution_count": 7,
   "id": "8465d02e",
   "metadata": {},
   "outputs": [],
   "source": [
    "'''\n",
    "Activation Function\n",
    "x,y   input\n",
    "w1,w2 weights\n",
    "b     bias\n",
    "'''\n",
    "def activation_function(x,y,w1,w2,b):\n",
    "    f=x*w1-y*w2+b #calculating the output from input and weights\n",
    "    if(f>=0): #if output is greater than equal zero return 1\n",
    "        return 1\n",
    "    else: #otherwise return -1\n",
    "        return -1"
   ]
  },
  {
   "cell_type": "code",
   "execution_count": 32,
   "id": "fb164165",
   "metadata": {},
   "outputs": [],
   "source": [
    "'''\n",
    "Perceptron Function for training\n",
    "train_data  training data\n",
    "w1,w2       weights\n",
    "b           bias\n",
    "'''\n",
    "def perceptron(w1,w2,b, train_data):\n",
    "    #x=0 initializing epoch with 0\n",
    "    while True:\n",
    "        z=0 # missclassified data number\n",
    "        for i in range(len(train_data)): #iterating all the training data\n",
    "            p=activation_function(train_data[i][0],train_data[i][1],w1,w2,b) # estimated value from the activation function\n",
    "            e=train_data[i][2]-p # calculating error between actual and estimated value\n",
    "            if(e!=0): # if there is any error counting the missclassified data for the epoch\n",
    "                z+=1\n",
    "            w1=w1+alpha*e*train_data[i][0] # updating the weight w1 = w1+ alpha*e*x(1)\n",
    "            w2=w2+alpha*e*train_data[i][1] # updating the weight w2 = w2+ alpha*e*x(2)\n",
    "            b=b+alpha*e*1 # updating the bias b = b+ alpha*e*1\n",
    "        #print(z)\n",
    "        #x=x+1 # counting epoch number\n",
    "        if(z==0): # if all the training data are classified correctly we are stopping the algorithm\n",
    "            break\n",
    "    #print(x) #total number of epochs\n",
    "    return [w1,w2,b] # returing the learned weights and bias"
   ]
  },
  {
   "cell_type": "code",
   "execution_count": 33,
   "id": "292ec62e",
   "metadata": {},
   "outputs": [],
   "source": [
    "'''\n",
    "Perceptron Function for testing\n",
    "test_data   test data\n",
    "w1,w2       learned weights\n",
    "b           learned bias\n",
    "'''\n",
    "def perceptron_test(w1,w2,b, test_data):\n",
    "    z=0\n",
    "    for i in range(len(test_data)):#iterating all the test data\n",
    "        p=activation_function(test_data[i][0],test_data[i][1],w1,w2,b) # estimated value from the activation function\n",
    "        e=test_data[i][2]-p  # calculating error between actual and estimated value\n",
    "        if(e!=0): #if there is any error counting the missclassified data \n",
    "            z+=1\n",
    "        print(f\"[{'%6.2f' %test_data[i][0]} {'%6.2f' %test_data[i][1]}] Actual Label  {'%6.1f' %test_data[i][2]} Predicted Label {'%6.1f' %p}\") # printing the actual and predicted class label\n",
    "    acc=(len(test_data)-z)/len(test_data) # calculating accuracy\n",
    "    acc=acc*100\n",
    "    print()\n",
    "    print(f\"Accuracy Rate: {acc}%\") # printing accuracy\n",
    "    print()\n",
    "    print(f\"Learned Weights =[{w1} {w2}]\")# printing learned weights\n",
    "    print(f\"Learned Bias = {b}\")# printing learned bias"
   ]
  },
  {
   "cell_type": "code",
   "execution_count": 36,
   "id": "a0c557b3",
   "metadata": {},
   "outputs": [
    {
     "name": "stdout",
     "output_type": "stream",
     "text": [
      "[  5.32   0.37] Actual Label     1.0 Predicted Label    1.0\n",
      "[ -4.06  -6.25] Actual Label     1.0 Predicted Label    1.0\n",
      "[ -1.17  -6.83] Actual Label     1.0 Predicted Label    1.0\n",
      "[  7.60  -4.52] Actual Label     1.0 Predicted Label    1.0\n",
      "[ -1.72  -4.08] Actual Label     1.0 Predicted Label    1.0\n",
      "[  2.58   1.60] Actual Label     1.0 Predicted Label    1.0\n",
      "[  2.00  -4.68] Actual Label     1.0 Predicted Label    1.0\n",
      "[ -4.31  -4.93] Actual Label     1.0 Predicted Label    1.0\n",
      "[ -3.45  -7.12] Actual Label     1.0 Predicted Label    1.0\n",
      "[  9.20  -6.23] Actual Label     1.0 Predicted Label    1.0\n",
      "[ -5.56   7.41] Actual Label    -1.0 Predicted Label   -1.0\n",
      "[ -5.87   8.37] Actual Label    -1.0 Predicted Label   -1.0\n",
      "[ -0.23   2.23] Actual Label    -1.0 Predicted Label   -1.0\n",
      "[ -8.39   4.77] Actual Label    -1.0 Predicted Label   -1.0\n",
      "[ -6.69   9.28] Actual Label    -1.0 Predicted Label   -1.0\n",
      "[ -9.51  -5.91] Actual Label    -1.0 Predicted Label   -1.0\n",
      "[  4.00   5.59] Actual Label    -1.0 Predicted Label   -1.0\n",
      "[ -9.54   1.55] Actual Label    -1.0 Predicted Label   -1.0\n",
      "[ -9.97   0.31] Actual Label    -1.0 Predicted Label   -1.0\n",
      "[  2.80   9.71] Actual Label    -1.0 Predicted Label   -1.0\n",
      "\n",
      "Accuracy Rate: 100.0%\n",
      "\n",
      "Learned Weights =[1.7739335039273239 1.8375893663724236]\n",
      "Learned Bias = 0.4967633760716438\n"
     ]
    }
   ],
   "source": [
    "np.random.seed(0) # Seting randomization seed\n",
    "w1=np.random.random() # setting w1 as random value \n",
    "w2=np.random.random()# setting w2 as random value \n",
    "b=np.random.random()# setting b as random value \n",
    "#print(w1,w2,b)\n",
    "weights_and_bias=perceptron(w1,w2,b,training_data) # training the perceptron and getting learned weights and bias\n",
    "perceptron_test(weights_and_bias[0],weights_and_bias[1],weights_and_bias[2],testing_data) # testing the perceptron with learned weights and bias"
   ]
  },
  {
   "cell_type": "code",
   "execution_count": null,
   "id": "257951e1",
   "metadata": {},
   "outputs": [],
   "source": []
  },
  {
   "cell_type": "code",
   "execution_count": null,
   "id": "cc427716",
   "metadata": {},
   "outputs": [],
   "source": []
  },
  {
   "cell_type": "code",
   "execution_count": null,
   "id": "9a9bd197",
   "metadata": {},
   "outputs": [],
   "source": []
  }
 ],
 "metadata": {
  "kernelspec": {
   "display_name": "Python 3 (ipykernel)",
   "language": "python",
   "name": "python3"
  },
  "language_info": {
   "codemirror_mode": {
    "name": "ipython",
    "version": 3
   },
   "file_extension": ".py",
   "mimetype": "text/x-python",
   "name": "python",
   "nbconvert_exporter": "python",
   "pygments_lexer": "ipython3",
   "version": "3.9.7"
  }
 },
 "nbformat": 4,
 "nbformat_minor": 5
}
